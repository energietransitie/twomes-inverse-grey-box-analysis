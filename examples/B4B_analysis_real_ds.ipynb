{
 "cells": [
  {
   "cell_type": "markdown",
   "id": "f01a0e61",
   "metadata": {},
   "source": [
    "# Brains4Buildings interactive inverse grey-box analysis pipeline\n",
    "\n",
    "This Jupyter Labs notebook can be used to interactively test the Brains4Buildings inverse grey-box analysis pipeline.\n",
    "Don't forget to install the requirements listed in [requirements.txt](../requirements.txt) first!\n",
    "\n",
    "This file be downloaded from the [twomes-dataset-windesheim-brains4buildings2022 repository](https://edu.nl/cvwtj):\n",
    "- `raw_properties/b4b_raw_properties.parquet`; \n",
    "- `metadata/b4b-room-metadata.zip`"
   ]
  },
  {
   "cell_type": "markdown",
   "id": "0451261a",
   "metadata": {},
   "source": [
    "## Setting the stage\n",
    "\n",
    "First several imports and variables need to be defined\n"
   ]
  },
  {
   "cell_type": "markdown",
   "id": "63467387",
   "metadata": {},
   "source": [
    "### Imports and generic settings"
   ]
  },
  {
   "cell_type": "code",
   "execution_count": null,
   "id": "55c668ca",
   "metadata": {
    "tags": []
   },
   "outputs": [],
   "source": [
    "import numpy as np\n",
    "import pandas as pd\n",
    "import matplotlib.pyplot as plt\n",
    "from datetime import datetime, timedelta\n",
    "\n",
    "# usually, two decimals suffice for displaying DataFrames (NB internally, precision may be higher)\n",
    "pd.options.display.precision = 2\n",
    "\n",
    "from tqdm.notebook import tqdm\n",
    "from gekko import GEKKO\n",
    "\n",
    "import sys\n",
    "sys.path.append('../data/')\n",
    "sys.path.append('../view/')\n",
    "sys.path.append('../analysis/')\n",
    "\n",
    "base_url = 'https://github.com/energietransitie/twomes-dataset-windesheim-brains4buildings2022/raw/main/'\n",
    "\n",
    "#location: Google Maps location of Hogeschool Windesheim in Zwolle\n",
    "lat, lon = 52.499255, 6.0765167\n",
    "timezone_ids = 'Europe/Amsterdam'\n",
    "\n",
    "from preprocessor import Preprocessor\n",
    "from inversegreyboxmodel import Learner\n",
    "from plotter import Plot\n",
    "from styler import formatted_error_dataframe\n",
    "\n",
    "\n",
    "%load_ext autoreload\n",
    "%matplotlib inline\n",
    "%matplotlib widget\n",
    "\n",
    "import logging\n",
    "logging.basicConfig(level=logging.ERROR, \n",
    "                    format='%(asctime)s %(levelname)-8s %(message)s',\n",
    "                    datefmt='%Y-%m-%d %H:%M:%S',\n",
    "                    filename='log_b4b.txt',\n",
    "                   )"
   ]
  },
  {
   "cell_type": "markdown",
   "id": "834687fd",
   "metadata": {},
   "source": [
    "### Load Measured Data from parquet file"
   ]
  },
  {
   "cell_type": "code",
   "execution_count": null,
   "id": "015b27b0",
   "metadata": {
    "tags": []
   },
   "outputs": [],
   "source": [
    "%%time\n",
    "# Prerequisite: for this example to work, you need to have the b4b_raw_properties.parquet, located in the ../data/ folder.\n",
    "# One way to get this is to run B4BExtractionBackup.ipynb first, but then you have to run this code on the energietransitiewindesheim.nl server\n",
    "\n",
    "file_prop = 'raw_properties/b4b_raw_properties.parquet'\n",
    "df_prop = pd.read_parquet(base_url + file_prop, engine='pyarrow')\n",
    "\n",
    "# df_prop = pd.read_parquet('https://github.com/energietransitie/twomes-dataset-windesheim-brains4buildings2022/raw/main/raw_properties/b4b_raw_properties.parquet',\n",
    "#                           engine='pyarrow')\n",
    "\n",
    "#sorting the DataFrame index is needed to get good performance on certain filters\n",
    "#this guarding code to check whether DataFramews are properly sorted\n",
    "if not df_prop.index.is_monotonic_increasing:\n",
    "    print('df needed index sorting')\n",
    "    df_prop = df_prop.sort_index()  "
   ]
  },
  {
   "cell_type": "code",
   "execution_count": null,
   "id": "5995f557",
   "metadata": {
    "tags": []
   },
   "outputs": [],
   "source": [
    "df_prop.index.unique(level='id').values"
   ]
  },
  {
   "cell_type": "code",
   "execution_count": null,
   "id": "4f87f865",
   "metadata": {
    "tags": []
   },
   "outputs": [],
   "source": [
    "df_prop.index.unique(level='source').values"
   ]
  },
  {
   "cell_type": "code",
   "execution_count": null,
   "id": "eabe731e",
   "metadata": {
    "tags": []
   },
   "outputs": [],
   "source": [
    "df_prop"
   ]
  },
  {
   "cell_type": "code",
   "execution_count": null,
   "id": "e785cbdb",
   "metadata": {
    "tags": []
   },
   "outputs": [],
   "source": [
    "df_prop.info()"
   ]
  },
  {
   "cell_type": "code",
   "execution_count": null,
   "id": "16269a3f-e39b-44ac-a428-d11cc0bf0215",
   "metadata": {
    "tags": []
   },
   "outputs": [],
   "source": [
    "df_prop.describe()"
   ]
  },
  {
   "cell_type": "code",
   "execution_count": null,
   "id": "4bf592fc-ebe0-47b3-b199-4c99ec590cdf",
   "metadata": {
    "tags": []
   },
   "outputs": [],
   "source": [
    "# Count values and make pivot-style overview\n",
    "\n",
    "# Group by 'source' and count non-null values\n",
    "df_counts = df_prop.groupby('source').count().sort_index(axis=1, ascending=False)\n",
    "\n",
    "# Calculate column totals and add as a new row\n",
    "column_totals = df_counts.sum().rename('Total')\n",
    "df_counts_with_totals = pd.concat([df_counts, column_totals.to_frame().T])\n",
    "\n",
    "# Calculate row totals and add as a new column\n",
    "row_totals = df_counts_with_totals.sum(axis=1).rename('Total')\n",
    "df_counts_with_totals['Total'] = row_totals\n",
    "\n",
    "# Replace 0 values with spaces or other indication\n",
    "df_counts_with_totals.replace(0, '-', inplace=True)\n",
    "\n",
    "df_counts_with_totals = df_counts_with_totals.T\n",
    "\n",
    "# Define desired row and column order\n",
    "desired_rows = ['co2__ppm', 'occupancy__p', 'valve_frac__0', 'temp_in__degC', 'rel_humidity__0',\n",
    "                'occupancy__bool', 'window_open__bool', 'door_open__bool', 'Total']\n",
    "desired_columns = ['CO2-meter-SCD4x', 'bms', 'xovis', 'human_observer', 'Total']\n",
    "\n",
    "# Reindex and reorder rows and columns\n",
    "df_counts_with_totals = df_counts_with_totals.reindex(desired_rows)\n",
    "df_counts_with_totals = df_counts_with_totals[desired_columns]\n",
    "\n",
    "# Transpose the dataframe\n",
    "df_counts_with_totals = df_counts_with_totals.transpose()\n",
    "\n",
    "# Display the dataframe\n",
    "df_counts_with_totals\n"
   ]
  },
  {
   "cell_type": "code",
   "execution_count": null,
   "id": "69309d27-a4de-4aaa-b473-0c76b78ec72c",
   "metadata": {
    "tags": []
   },
   "outputs": [],
   "source": [
    "# overview of CO₂ values\n",
    "df_prop.filter(regex='__ppm$').describe().loc[['min', 'mean', 'max']].dropna(axis=1, how='all')"
   ]
  },
  {
   "cell_type": "code",
   "execution_count": null,
   "id": "6f97132e-7a5e-47d5-b579-6297cca0be7a",
   "metadata": {
    "tags": []
   },
   "outputs": [],
   "source": [
    "# histogram of CO₂ measurements before preprocessing \n",
    "df_prop.filter(regex='__ppm$').plot.hist(bins=200, alpha=0.5, title = 'co2__ppm')"
   ]
  },
  {
   "cell_type": "code",
   "execution_count": null,
   "id": "2c266e76-558d-418e-8af7-7e394687c25c",
   "metadata": {
    "tags": []
   },
   "outputs": [],
   "source": [
    "# overview of CO₂ values, per room\n",
    "df_prop.filter(regex='__ppm$').groupby(['id','source']).describe().loc[:, pd.IndexSlice[:, ['min', 'mean', 'max']]].stack(level=0).reindex(columns=['min', 'mean', 'max'])"
   ]
  },
  {
   "cell_type": "code",
   "execution_count": null,
   "id": "fd199cb6-70c5-4173-93ec-cd1fb65b705d",
   "metadata": {
    "tags": []
   },
   "outputs": [],
   "source": [
    "# histogram of CO₂ measurements per room before preprocessing \n",
    "df_hist = Preprocessor.unstack_prop(df_prop).filter(regex='__ppm$').dropna(axis=1, how='all').unstack([0])\n",
    "\n",
    "df_hist.columns = df_hist.columns.swaplevel(0,1)\n",
    "\n",
    "df_hist.columns = ['_'.join(map(str, col)) for col in df_hist.columns.values]\n",
    "\n",
    "df_hist.columns.values\n",
    "\n",
    "# # Reshape the DataFrame using pivot_table\n",
    "# df_hist = df_hist.pivot_table(index='timestamp', columns='id', values='co2__ppm')\n",
    "\n",
    "# # Remove the multi-level column index\n",
    "# df_hist.columns = df_hist.columns.get_level_values(0)\n",
    "\n",
    "\n",
    "df_hist.plot.hist(bins=200, alpha=0.5, title = 'co2__ppm')"
   ]
  },
  {
   "cell_type": "markdown",
   "id": "67575fe8",
   "metadata": {
    "tags": []
   },
   "source": [
    "## Preprocessing including merging weather data"
   ]
  },
  {
   "cell_type": "code",
   "execution_count": null,
   "id": "78b320d6",
   "metadata": {
    "tags": []
   },
   "outputs": [],
   "source": [
    "df_prep = Preprocessor.preprocess_room_data(df_prop, lat, lon, timezone_ids)"
   ]
  },
  {
   "cell_type": "code",
   "execution_count": null,
   "id": "2b0ae623-15c8-40a6-b6df-f89032ef09da",
   "metadata": {
    "tags": []
   },
   "outputs": [],
   "source": [
    "df_prep.index.unique(level='id').values"
   ]
  },
  {
   "cell_type": "code",
   "execution_count": null,
   "id": "8e2d4ff7",
   "metadata": {
    "tags": []
   },
   "outputs": [],
   "source": [
    "df_prep.info()"
   ]
  },
  {
   "cell_type": "code",
   "execution_count": null,
   "id": "cbb216c5-b828-4976-a42b-c8db73d68f9f",
   "metadata": {
    "tags": []
   },
   "outputs": [],
   "source": [
    "df_prep.describe()"
   ]
  },
  {
   "cell_type": "code",
   "execution_count": null,
   "id": "bc0164f5",
   "metadata": {
    "tags": []
   },
   "outputs": [],
   "source": [
    "# overview of CO₂ values\n",
    "df_prep.filter(regex='__ppm$').describe().loc[['min', 'mean', 'max']].dropna(axis=1, how='all')"
   ]
  },
  {
   "cell_type": "code",
   "execution_count": null,
   "id": "39e7460d-547a-4d76-8ae6-e0a36901accb",
   "metadata": {
    "tags": []
   },
   "outputs": [],
   "source": [
    "# overview of CO₂ values, per room\n",
    "df_prep.filter(regex='__ppm$').groupby('id').describe().loc[:, pd.IndexSlice[:, ['min', 'mean', 'max']]].stack(level=0).reindex(columns=['min', 'mean', 'max'])"
   ]
  },
  {
   "cell_type": "code",
   "execution_count": null,
   "id": "0e0c54de-1b81-41b7-8bad-0cfe515d4f9b",
   "metadata": {
    "tags": []
   },
   "outputs": [],
   "source": [
    "df_prep"
   ]
  },
  {
   "cell_type": "code",
   "execution_count": null,
   "id": "80d50946",
   "metadata": {
    "tags": []
   },
   "outputs": [],
   "source": [
    "# visualize input data\n",
    "df_plot = df_prep"
   ]
  },
  {
   "cell_type": "code",
   "execution_count": null,
   "id": "f499f0a6-6b74-4421-bbf0-47cafa9bd3d0",
   "metadata": {
    "tags": []
   },
   "outputs": [],
   "source": [
    "df_plot.info()"
   ]
  },
  {
   "cell_type": "code",
   "execution_count": null,
   "id": "349ae494",
   "metadata": {
    "tags": []
   },
   "outputs": [],
   "source": [
    "%autoreload 2\n",
    "units_to_mathtext = property_types = {\n",
    "    'degC' : r'$°C$',\n",
    "    'ppm' : r'$ppm$',\n",
    "    '0' : r'$[-]$',\n",
    "    'bool': r'$0 = False; 1 = True$',\n",
    "    'p' : r'$persons$',\n",
    "    'm_s_1': r'$m/s$',\n",
    "    'W_m_2' : r'$W/m^2$'\n",
    "}"
   ]
  },
  {
   "cell_type": "code",
   "execution_count": null,
   "id": "f6f71f2c-cc44-4f95-a7d7-d088479f5de4",
   "metadata": {
    "tags": []
   },
   "outputs": [],
   "source": [
    "#Plot all properties from all sources for all ids but only for certain columns\n",
    "Plot.dataframe_preprocessed_plot(df_plot.filter(regex='.*(__ppm$|valve_frac__0$|__p$|__m_s_1$)'), units_to_mathtext)"
   ]
  },
  {
   "cell_type": "code",
   "execution_count": null,
   "id": "361401dc-3490-4e3c-a3f6-0ed2f63b915a",
   "metadata": {},
   "outputs": [],
   "source": [
    "# Plot a matrix of scatterplots for all measurements\n",
    "features = ['CO2-meter-SCD4x_co2__ppm', 'bms_co2__ppm', 'bms_occupancy__bool', 'CO2-meter-SCD4x_occupancy__p', 'xovis_occupancy__p', 'bms_valve_frac__0']\n",
    "Plot.features_scatter_plot(df=df_prep, features=features)"
   ]
  },
  {
   "cell_type": "code",
   "execution_count": null,
   "id": "89e9e056-5f11-413e-8262-28212f737781",
   "metadata": {},
   "outputs": [],
   "source": [
    "# histogram of CO₂ measurements after preprocessing \n",
    "df_prep.filter(regex='__ppm$').dropna(axis=1, how='all').plot.hist(bins=200, alpha=0.5, title = 'co2__ppm')"
   ]
  },
  {
   "cell_type": "code",
   "execution_count": null,
   "id": "60b1b0f3-1a7b-447f-9a36-02adf99d8127",
   "metadata": {
    "tags": []
   },
   "outputs": [],
   "source": [
    "# histogram of CO₂ measurements per room after preprocessing \n",
    "df_hist = df_prep.filter(regex='__ppm$').dropna(axis=1, how='all').unstack([0])\n",
    "\n",
    "df_hist.columns = df_hist.columns.swaplevel(0,1)\n",
    "\n",
    "df_hist.columns = ['_'.join(map(str, col)) for col in df_hist.columns.values]\n",
    "\n",
    "df_hist.columns.values\n",
    "\n",
    "# # Reshape the DataFrame using pivot_table\n",
    "# df_hist = df_hist.pivot_table(index='timestamp', columns='id', values='co2__ppm')\n",
    "\n",
    "# # Remove the multi-level column index\n",
    "# df_hist.columns = df_hist.columns.get_level_values(0)\n",
    "\n",
    "\n",
    "df_hist.plot.hist(bins=200, alpha=0.5, title = 'co2__ppm')"
   ]
  },
  {
   "cell_type": "markdown",
   "id": "6eb76cb8",
   "metadata": {
    "tags": []
   },
   "source": [
    "## Learn parameters using inverse grey-box analysis\n",
    "\n",
    "Most of the heavy lifting is done by the `learn_room_parameters()` function, which again uses the [GEKKO Python](https://machinelearning.byu.edu/) dynamic optimization toolkit."
   ]
  },
  {
   "cell_type": "code",
   "execution_count": null,
   "id": "3c96e786",
   "metadata": {
    "tags": []
   },
   "outputs": [],
   "source": [
    "%%time \n",
    "%autoreload 2\n",
    "\n",
    "# learn the model parameters for only a subset of the room ids and write results to a dataframe\n",
    "\n",
    "# read room metadata\n",
    "\n",
    "file_metadata = 'metadata/b4b-room-metadata.zip'\n",
    "df_room_metadata = pd.read_csv(base_url + file_metadata, usecols=['id', 'room__m3', 'vent_max__m3_h_1']).set_index(['id'])\n",
    "\n",
    "# filename = '../data/b4b-room-metadata.zip'\n",
    "# df_room_metadata = pd.read_csv(filename, usecols=['id', 'room__m3', 'vent_max__m3_h_1']).set_index(['id'])\n",
    "\n",
    "hints = {\n",
    "    'A_inf__m2' : (10 / 1e4) # 10 [cm^2] \n",
    "}\n",
    "    \n",
    "#select whether to learn a time-varying parameters as well (NB you can set 0 or 1 of these to true, both not both\n",
    "learn = [\n",
    "    'A_inf__m2',\n",
    "    'valve_frac__0',\n",
    "    # 'occupancy__p',\n",
    "]\n",
    "\n",
    "#select column names\n",
    "property_sources = {\n",
    "    'co2__ppm' : 'CO2-meter-SCD4x_co2__ppm',           # options: ['bms_co2__ppm', 'CO2-meter-SCD4x_co2__ppm']\n",
    "    'occupancy__p': 'CO2-meter-SCD4x_occupancy__p',    # options: ['CO2-meter-SCD4x_occupancy__p', 'xovis_occupancy__p']\n",
    "    'valve_frac__0': 'bms_valve_frac__0'\n",
    "}\n",
    "\n",
    "df_results_per_period, df_results = Learner.learn_room_parameters(df_prep,\n",
    "                                                                  property_sources = property_sources, \n",
    "                                                                  df_metadata = df_room_metadata,\n",
    "                                                                  hints = hints,\n",
    "                                                                  learn = learn,\n",
    "                                                                  learn_period__d = 3, \n",
    "                                                                  learn_change_interval__min = 30,\n",
    "                                                                  co2_ext__ppm = 415,\n",
    "                                                                  ev_type=2\n",
    "                                                                 )\n"
   ]
  },
  {
   "cell_type": "markdown",
   "id": "1de45081",
   "metadata": {},
   "source": [
    "### Result per learning period "
   ]
  },
  {
   "cell_type": "code",
   "execution_count": null,
   "id": "192a67b9",
   "metadata": {
    "tags": []
   },
   "outputs": [],
   "source": [
    "#write df_results_per_period to zipped CSV file for analysis in other programs\n",
    "if any(df_results.columns.str.startswith('model_')): \n",
    "    roomtype='virtual'\n",
    "else:\n",
    "    roomtype='real'\n",
    "    \n",
    "if (('valve_frac__0' in learn) or ('occupancy__p'in learn)):\n",
    "    if 'valve_frac__0' in learn:\n",
    "        resulttype = 'valve_frac__0'\n",
    "    else:\n",
    "        resulttype = 'occupancy__p'\n",
    "else:\n",
    "    resulttype= 'A_inf__m2'\n",
    "\n",
    "df_results_per_period.to_csv(f'results_{resulttype}_per_period_{roomtype}_rooms.zip',\n",
    "                             encoding='utf-8',\n",
    "                             compression= dict(method='zip',\n",
    "                                               archive_name=f'results_{resulttype}_per_period_{roomtype}_rooms.csv'),\n",
    "                             date_format='%Y-%m-%dT%H:%M:%S%z')"
   ]
  },
  {
   "cell_type": "code",
   "execution_count": null,
   "id": "0ee36bbb",
   "metadata": {
    "tags": []
   },
   "outputs": [],
   "source": [
    "df_results_per_period"
   ]
  },
  {
   "cell_type": "code",
   "execution_count": null,
   "id": "921f2cb9",
   "metadata": {
    "tags": []
   },
   "outputs": [],
   "source": [
    "# box plot for 'learned_A_inf__cm2' per room \n",
    "Plot.learned_parameters_boxplot_b4b(df_results_per_period, learned='learned_A_inf__cm2', actual=None)\n"
   ]
  },
  {
   "cell_type": "code",
   "execution_count": null,
   "id": "f5676c2b",
   "metadata": {
    "tags": []
   },
   "outputs": [],
   "source": [
    "# show essential statistics for the learned values\n",
    "df_stats = df_results_per_period.describe().filter(regex='^actual_|^learned_')\n",
    "df_stats.loc[df_stats.index.get_level_values(0).isin(['mean', 'std', 'min', 'max'])]"
   ]
  },
  {
   "cell_type": "code",
   "execution_count": null,
   "id": "079063cb-dffa-40d7-bd19-35ed9b8dac69",
   "metadata": {
    "tags": []
   },
   "outputs": [],
   "source": [
    "df_results_per_period"
   ]
  },
  {
   "cell_type": "code",
   "execution_count": null,
   "id": "323a5fd4-114d-43ab-afd0-81c11487bba3",
   "metadata": {},
   "outputs": [],
   "source": [
    "# show essential statistics for the errors\n",
    "formatted_error_dataframe(df_results_per_period, per_id= False)"
   ]
  },
  {
   "cell_type": "code",
   "execution_count": null,
   "id": "f452258d",
   "metadata": {
    "tags": []
   },
   "outputs": [],
   "source": [
    "# show essential statistics for the error values, per id\n",
    "formatted_error_dataframe(df_results_per_period, per_id= True)"
   ]
  },
  {
   "cell_type": "markdown",
   "id": "b19801d9",
   "metadata": {},
   "source": [
    "### Result Visualization"
   ]
  },
  {
   "cell_type": "code",
   "execution_count": null,
   "id": "217ffae9",
   "metadata": {
    "tags": []
   },
   "outputs": [],
   "source": [
    "#Plot all properties from all sources for all ids\n",
    "input_props = list(property_sources.values())\n",
    "learned_props = input_props + ['sim_co2__ppm']\n",
    "learned_props_frac = input_props + ['sim_co2__ppm', 'learned_valve_frac__0']\n",
    "learned_props_occupancy = input_props + ['sim_co2__ppm', 'learned_occupancy__p']"
   ]
  },
  {
   "cell_type": "code",
   "execution_count": null,
   "id": "baa2a5c0",
   "metadata": {
    "tags": []
   },
   "outputs": [],
   "source": [
    "df_results"
   ]
  },
  {
   "cell_type": "code",
   "execution_count": null,
   "id": "ff37645e",
   "metadata": {
    "tags": []
   },
   "outputs": [],
   "source": [
    "# select properties to visualise\n",
    "if (('valve_frac__0' in learn) or ('occupancy__p'in learn)):\n",
    "    if 'valve_frac__0' in learn:\n",
    "        props = learned_props_frac\n",
    "    else:\n",
    "        props = learned_props_occupancy\n",
    "else:\n",
    "    props = learned_props\n",
    "        \n",
    "# df_plot = df_prep[props]\n",
    "\n",
    "df_plot = df_results[props]"
   ]
  },
  {
   "cell_type": "code",
   "execution_count": null,
   "id": "f28336cf-0e16-471a-8b8d-72790f287833",
   "metadata": {},
   "outputs": [],
   "source": [
    "props"
   ]
  },
  {
   "cell_type": "code",
   "execution_count": null,
   "id": "7fb046ea",
   "metadata": {
    "tags": []
   },
   "outputs": [],
   "source": [
    "df_plot"
   ]
  },
  {
   "cell_type": "code",
   "execution_count": null,
   "id": "fc5072cc",
   "metadata": {
    "tags": []
   },
   "outputs": [],
   "source": [
    "df_plot.info()"
   ]
  },
  {
   "cell_type": "code",
   "execution_count": null,
   "id": "78f373a8",
   "metadata": {
    "tags": []
   },
   "outputs": [],
   "source": [
    "#Plot time series of all relevant measurements and learned properties\n",
    "Plot.dataframe_preprocessed_plot(df_plot, units_to_mathtext)"
   ]
  },
  {
   "cell_type": "code",
   "execution_count": null,
   "id": "03fd2e5d-2991-49ff-83c5-26f8a5ed97e1",
   "metadata": {},
   "outputs": [],
   "source": [
    "# Plot a matrix of scatterplots for all relevant measurements and learned properties\n",
    "Plot.features_scatter_plot(df=df_prep, features=props)"
   ]
  },
  {
   "cell_type": "markdown",
   "id": "8b4ebc8a-08ce-4852-870e-968babdac320",
   "metadata": {
    "tags": []
   },
   "source": [
    "## Learn parameters using inverse grey-box analysis with co2_ext__ppm 50 ppm lower \n",
    "\n",
    "Most of the heavy lifting is done by the `learn_room_parameters()` function, which again uses the [GEKKO Python](https://machinelearning.byu.edu/) dynamic optimization toolkit."
   ]
  },
  {
   "cell_type": "code",
   "execution_count": null,
   "id": "5154618f-6fd7-4193-801f-17af54924c63",
   "metadata": {},
   "outputs": [],
   "source": [
    "# use the alt variable to turn on or off processing an alternative scenario and comparing it with the base case \n",
    "alt = False"
   ]
  },
  {
   "cell_type": "code",
   "execution_count": null,
   "id": "63327d0f-cb9d-4389-8f8c-728d178e478d",
   "metadata": {
    "tags": []
   },
   "outputs": [],
   "source": [
    "%%time \n",
    "%autoreload 2\n",
    "\n",
    "if alt:\n",
    "    df_results_per_period_margin_50, df_results_margin_50 = Learner.learn_room_parameters(df_prep,\n",
    "                                                                      property_sources = property_sources, \n",
    "                                                                      df_metadata = df_room_metadata,\n",
    "                                                                      hints = hints,\n",
    "                                                                      learn = learn,\n",
    "                                                                      learn_period__d = 3, \n",
    "                                                                      learn_change_interval__min = 30,\n",
    "                                                                      co2_ext__ppm = 415-50,\n",
    "                                                                      ev_type=2\n",
    "                                                                     )\n"
   ]
  },
  {
   "cell_type": "markdown",
   "id": "5d22e35f-7d13-4e24-9dfd-16935305eb57",
   "metadata": {},
   "source": [
    "### Result per learning period with co2_ext__ppm 50 ppm lower"
   ]
  },
  {
   "cell_type": "code",
   "execution_count": null,
   "id": "91719d5f-e7d5-4a45-92df-08b50c252c31",
   "metadata": {
    "tags": []
   },
   "outputs": [],
   "source": [
    "#write df_results_per_period to zipped CSV file for analysis in other programs\n",
    "if alt:\n",
    "    if any(df_results.columns.str.startswith('model_')): \n",
    "        roomtype='virtual'\n",
    "    else:\n",
    "        roomtype='real'\n",
    "\n",
    "    if (('valve_frac__0' in learn) or ('occupancy__p'in learn)):\n",
    "        if 'valve_frac__0' in learn:\n",
    "            resulttype = 'valve_frac__0'\n",
    "        else:\n",
    "            resulttype = 'occupancy__p'\n",
    "    else:\n",
    "        resulttype= 'A_inf__m2'\n",
    "\n",
    "    df_results_per_period_margin_50.to_csv(f'results_{resulttype}_per_period_{roomtype}_rooms_margin_50__ppm.zip',\n",
    "                                 encoding='utf-8',\n",
    "                                 compression= dict(method='zip',\n",
    "                                                   archive_name=f'results_{resulttype}_per_period_{roomtype}_rooms.csv'),\n",
    "                                 date_format='%Y-%m-%dT%H:%M:%S%z')"
   ]
  },
  {
   "cell_type": "code",
   "execution_count": null,
   "id": "b10e1fc2-54ef-4882-9cb7-445eed1b8231",
   "metadata": {
    "tags": []
   },
   "outputs": [],
   "source": [
    "if alt:\n",
    "    df_results_per_period_margin_50"
   ]
  },
  {
   "cell_type": "code",
   "execution_count": null,
   "id": "98cf692f-a124-4cb5-a6cc-2ee8b25f2ee2",
   "metadata": {
    "tags": []
   },
   "outputs": [],
   "source": [
    "# box plot for 'learned_A_inf__cm2' per room \n",
    "if alt:\n",
    "    Plot.learned_parameters_boxplot_b4b(df_results_per_period, learned='learned_A_inf__cm2', actual=None)"
   ]
  },
  {
   "cell_type": "code",
   "execution_count": null,
   "id": "a231c1b7-0e66-4168-b2b5-d82e7ace0532",
   "metadata": {
    "tags": []
   },
   "outputs": [],
   "source": [
    "# show essential statistics for the learned values\n",
    "if alt:\n",
    "    df_stats_margin_50 = df_results_per_period_margin_50.describe().filter(regex='^actual_|^learned_')\n",
    "    df_stats_margin_50.loc[df_stats_margin_50.index.get_level_values(0).isin(['mean', 'std', 'min', 'max'])]"
   ]
  },
  {
   "cell_type": "code",
   "execution_count": null,
   "id": "475dcebd-f406-460a-b1b3-2100f57dccb4",
   "metadata": {
    "tags": []
   },
   "outputs": [],
   "source": [
    "# show essential statistics for the errors\n",
    "if alt:\n",
    "    formatted_error_dataframe(df_results_per_period_margin_50, per_id= False)"
   ]
  },
  {
   "cell_type": "code",
   "execution_count": null,
   "id": "c764afb2-9e0c-4584-b554-60aa0db6a3b5",
   "metadata": {
    "tags": []
   },
   "outputs": [],
   "source": [
    "# show essential statistics for the error values, per id\n",
    "if alt:\n",
    "    formatted_error_dataframe(df_results_per_period_margin_50, per_id= True)"
   ]
  },
  {
   "cell_type": "markdown",
   "id": "eb80331d-f7c0-4e04-bdb8-5b6225251736",
   "metadata": {},
   "source": [
    "### Result Visualization with co2_ext__ppm 50 ppm lower"
   ]
  },
  {
   "cell_type": "code",
   "execution_count": null,
   "id": "4f0c2fab-0a25-4c30-865b-862495d984a9",
   "metadata": {
    "tags": []
   },
   "outputs": [],
   "source": [
    "#Plot all properties from all sources for all ids\n",
    "if alt:\n",
    "    input_props = list(property_sources.values())\n",
    "    learned_props = input_props + ['sim_co2__ppm']\n",
    "    learned_props_frac = input_props + ['sim_co2__ppm', 'learned_valve_frac__0']\n",
    "    learned_props_occupancy = input_props + ['sim_co2__ppm', 'learned_occupancy__p']"
   ]
  },
  {
   "cell_type": "code",
   "execution_count": null,
   "id": "411e3d40-bf6b-49c2-8014-99f4aa3b09b9",
   "metadata": {
    "tags": []
   },
   "outputs": [],
   "source": [
    "if alt:\n",
    "    df_results_margin_50"
   ]
  },
  {
   "cell_type": "code",
   "execution_count": null,
   "id": "f0d0a8fd-35d4-454d-ba3b-e0f79a87c3b8",
   "metadata": {
    "tags": []
   },
   "outputs": [],
   "source": [
    "# select properties to visualise\n",
    "if alt:\n",
    "    if (('valve_frac__0' in learn) or ('occupancy__p'in learn)):\n",
    "        if 'valve_frac__0' in learn:\n",
    "            props = learned_props_frac\n",
    "        else:\n",
    "            props = learned_props_occupancy\n",
    "    else:\n",
    "        props = learned_props\n",
    "\n",
    "    # df_plot = df_prep[props]\n",
    "\n",
    "    df_plot = df_results_margin_50[props]"
   ]
  },
  {
   "cell_type": "code",
   "execution_count": null,
   "id": "3fa810ab-e322-45a8-b94b-f656fcddcabb",
   "metadata": {},
   "outputs": [],
   "source": [
    "if alt:\n",
    "    props"
   ]
  },
  {
   "cell_type": "code",
   "execution_count": null,
   "id": "565d18e7-d1db-4cf6-a5c2-0eb82ba2cbc6",
   "metadata": {
    "tags": []
   },
   "outputs": [],
   "source": [
    "if alt:\n",
    "    df_plot"
   ]
  },
  {
   "cell_type": "code",
   "execution_count": null,
   "id": "5ede7dcb-9ff3-4092-907d-6f41a3c1fd95",
   "metadata": {
    "tags": []
   },
   "outputs": [],
   "source": [
    "if alt:\n",
    "    df_plot.info()"
   ]
  },
  {
   "cell_type": "code",
   "execution_count": null,
   "id": "6402c56b-fd30-4616-8400-9e25b7b37b54",
   "metadata": {
    "tags": []
   },
   "outputs": [],
   "source": [
    "#Plot time series of all relevant measurements and learned properties\n",
    "if alt:\n",
    "    Plot.dataframe_preprocessed_plot(df_plot, units_to_mathtext)"
   ]
  },
  {
   "cell_type": "code",
   "execution_count": null,
   "id": "7f6f99c9-28a6-4aa8-a54a-a3219903c374",
   "metadata": {},
   "outputs": [],
   "source": [
    "# Plot a matrix of scatterplots for all relevant measurements and learned properties\n",
    "if alt:\n",
    "    Plot.features_scatter_plot(df=df_prep, features=props)"
   ]
  },
  {
   "cell_type": "markdown",
   "id": "fe4870c6-ca08-408a-a7d1-073134f02c5d",
   "metadata": {},
   "source": [
    "## Improvements with co2_ext_ppm 50 ppm lower compared to 1 ppm lower"
   ]
  },
  {
   "cell_type": "code",
   "execution_count": null,
   "id": "19eb3993-9ee3-4cf6-a9f2-a34b9a38a0b0",
   "metadata": {},
   "outputs": [],
   "source": [
    "if alt:\n",
    "    df_compare = pd.DataFrame(columns=['learn_streak_period_start', 'learn_streak_period_end', 'mae_co2__ppm', 'rmse_co2__ppm', 'mae_valve_frac__0', 'rmse_valve_frac__0', 'mae_occupancy__p', 'rmse_occupancy__p'])"
   ]
  },
  {
   "cell_type": "code",
   "execution_count": null,
   "id": "b478fd0d-d22f-45d2-bba1-fa314f4fd4fe",
   "metadata": {},
   "outputs": [],
   "source": [
    "if alt:\n",
    "    df_compare[['learn_streak_period_start', 'learn_streak_period_end']] = df_results_per_period[['learn_streak_period_start', 'learn_streak_period_end']]"
   ]
  },
  {
   "cell_type": "code",
   "execution_count": null,
   "id": "a71d67bd-3289-412f-bd27-9f99f8359468",
   "metadata": {},
   "outputs": [],
   "source": [
    "if alt:\n",
    "    metrics = ['mae_co2__ppm', 'rmse_co2__ppm', 'rmae_valve_frac__0', 'rmse_valve_frac__0', 'mae_occupancy__p', 'rmse_occupancy__p']\n",
    "    df_compare[metrics]= df_results_per_period[metrics] - df_results_per_period_margin_50[metrics]\n"
   ]
  },
  {
   "cell_type": "code",
   "execution_count": null,
   "id": "4608b08b-60d3-462c-ba78-c5a1ac280a67",
   "metadata": {},
   "outputs": [],
   "source": [
    "if alt:\n",
    "    df_compare"
   ]
  },
  {
   "cell_type": "code",
   "execution_count": null,
   "id": "6509b41a-401d-45e5-aa82-a7bd6d019471",
   "metadata": {
    "tags": []
   },
   "outputs": [],
   "source": [
    "# show essential statistics for the errors\n",
    "if alt:\n",
    "    df_improvements_when_co2_margin_50__ppm = df_compare.describe().filter(regex='^mae_|^rmae_|^rmse')\n",
    "    df_improvements_when_co2_margin_50__ppm.loc[df_improvements_when_co2_margin_50__ppm.index.get_level_values(0).isin(['mean', 'std', 'min', 'max'])]\n"
   ]
  },
  {
   "cell_type": "code",
   "execution_count": null,
   "id": "84ee9610-f07a-4db3-849d-3da911016119",
   "metadata": {
    "tags": []
   },
   "outputs": [],
   "source": [
    "holiday_periods = [\n",
    "    (pd.to_datetime('2022-10-15 00:00:00+02:00'), pd.to_datetime('2022-10-16 23:45:00+02:00')),\n",
    "    (pd.to_datetime('2022-10-22 00:00:00+02:00'), pd.to_datetime('2022-10-30 23:45:00+02:00')) \n",
    "]\n",
    "# Choose ferature to plot\n",
    "plot_features = ['bms_co2__ppm', 'wind__m_s_1'] "
   ]
  },
  {
   "cell_type": "code",
   "execution_count": null,
   "id": "60b5c8c8-fe08-4db6-902d-425524011783",
   "metadata": {
    "tags": []
   },
   "outputs": [],
   "source": [
    "Plot.working_days_scatter_plot(df_prep, plot_features, holiday_periods)"
   ]
  },
  {
   "cell_type": "code",
   "execution_count": null,
   "id": "14289d3e-b6ed-4811-9c1f-1f1c2b56b5b4",
   "metadata": {
    "tags": []
   },
   "outputs": [],
   "source": [
    "df_working_days, df_non_working_days = Preprocessor.working_days_extraction(df_prep, holiday_periods)"
   ]
  },
  {
   "cell_type": "code",
   "execution_count": null,
   "id": "1794bfe3-b361-43a1-8ed4-487ed2b2778c",
   "metadata": {
    "tags": []
   },
   "outputs": [],
   "source": [
    "# Working days scatter plot\n",
    "features = ['CO2-meter-SCD4x_co2__ppm', 'bms_co2__ppm', 'bms_occupancy__bool', 'CO2-meter-SCD4x_occupancy__p', 'xovis_occupancy__p', 'bms_valve_frac__0']\n",
    "Plot.features_scatter_plot(df=df_working_days, features=features)"
   ]
  },
  {
   "cell_type": "code",
   "execution_count": null,
   "id": "99f6f19b-2021-4541-b392-88e1cd467dcb",
   "metadata": {
    "tags": []
   },
   "outputs": [],
   "source": [
    "# Non-Working days scatter plot\n",
    "features = ['CO2-meter-SCD4x_co2__ppm', 'bms_co2__ppm', 'bms_occupancy__bool', 'CO2-meter-SCD4x_occupancy__p', 'xovis_occupancy__p', 'bms_valve_frac__0']\n",
    "Plot.features_scatter_plot(df=df_non_working_days, features=features)"
   ]
  },
  {
   "cell_type": "code",
   "execution_count": null,
   "id": "6bbacf3e-06fc-4a0e-8d4c-ea7dc7a1d246",
   "metadata": {},
   "outputs": [],
   "source": []
  },
  {
   "cell_type": "code",
   "execution_count": null,
   "id": "9ff22f7f-2c47-4337-8931-ffe5d60a728f",
   "metadata": {},
   "outputs": [],
   "source": []
  },
  {
   "cell_type": "code",
   "execution_count": null,
   "id": "966da740-a7fc-472d-a73a-9f303340a0d8",
   "metadata": {},
   "outputs": [],
   "source": []
  },
  {
   "cell_type": "code",
   "execution_count": null,
   "id": "c6f5081f-9625-43be-ba12-2c804c5a7d70",
   "metadata": {},
   "outputs": [],
   "source": []
  }
 ],
 "metadata": {
  "kernelspec": {
   "display_name": "Python 3 (ipykernel)",
   "language": "python",
   "name": "python3"
  },
  "language_info": {
   "codemirror_mode": {
    "name": "ipython",
    "version": 3
   },
   "file_extension": ".py",
   "mimetype": "text/x-python",
   "name": "python",
   "nbconvert_exporter": "python",
   "pygments_lexer": "ipython3",
   "version": "3.10.6"
  },
  "vscode": {
   "interpreter": {
    "hash": "2b52c2ff5431c21ddbe91dac57ae43ca32d3900acacc91a5c2a32f1a3c11d7aa"
   }
  }
 },
 "nbformat": 4,
 "nbformat_minor": 5
}
